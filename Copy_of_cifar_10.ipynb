{
  "nbformat": 4,
  "nbformat_minor": 0,
  "metadata": {
    "colab": {
      "name": "Copy of cifar-10.ipynb",
      "version": "0.3.2",
      "provenance": []
    },
    "kernelspec": {
      "name": "python3",
      "display_name": "Python 3"
    },
    "accelerator": "GPU"
  },
  "cells": [
    {
      "metadata": {
        "id": "SGScnY2K79kg",
        "colab_type": "code",
        "colab": {}
      },
      "cell_type": "code",
      "source": [
        "import numpy as np\n",
        "import tensorflow as tf\n",
        "from tensorflow.keras.datasets import cifar10\n",
        "from tensorflow.keras.models import Model\n",
        "from tensorflow.keras.layers import Dense, Flatten, Input\n",
        "from tensorflow.keras.layers import Dropout, BatchNormalization\n",
        "from tensorflow.keras.layers import Conv2D, MaxPooling2D\n",
        "from tensorflow.keras.preprocessing import image\n",
        "from tensorflow.keras.optimizers import Adam \n",
        "import matplotlib.pyplot as plt\n",
        "from keras.utils import np_utils\n",
        "from tensorflow.keras.callbacks import EarlyStopping\n"
      ],
      "execution_count": 0,
      "outputs": []
    },
    {
      "metadata": {
        "id": "0vlsDFBAQhsH",
        "colab_type": "code",
        "colab": {}
      },
      "cell_type": "code",
      "source": [
        ""
      ],
      "execution_count": 0,
      "outputs": []
    },
    {
      "metadata": {
        "id": "tsORDGPfQhP2",
        "colab_type": "code",
        "colab": {}
      },
      "cell_type": "code",
      "source": [
        ""
      ],
      "execution_count": 0,
      "outputs": []
    },
    {
      "metadata": {
        "id": "tCriz7n88XKJ",
        "colab_type": "code",
        "colab": {}
      },
      "cell_type": "code",
      "source": [
        "np.random.seed(7)\n",
        "rn.seed(22)\n",
        "tf.set_random_seed(21)\n"
      ],
      "execution_count": 0,
      "outputs": []
    },
    {
      "metadata": {
        "id": "7aK32Lp98cbZ",
        "colab_type": "code",
        "colab": {}
      },
      "cell_type": "code",
      "source": [
        "(x_train, y_train), (x_test, y_test) = cifar10.load_data()"
      ],
      "execution_count": 0,
      "outputs": []
    },
    {
      "metadata": {
        "id": "9aRAs7m48kFh",
        "colab_type": "code",
        "colab": {}
      },
      "cell_type": "code",
      "source": [
        "x_train = x_train.astype('float32')\n",
        "x_test =x_test.astype('float32')\n",
        "x_train /= 255\n",
        "x_test /= 255\n",
        "number_of_classes = 10"
      ],
      "execution_count": 0,
      "outputs": []
    },
    {
      "metadata": {
        "id": "Yc6qw4va8pfi",
        "colab_type": "code",
        "colab": {}
      },
      "cell_type": "code",
      "source": [
        "y_train = np_utils.to_categorical(y_train, number_of_classes)\n",
        "y_test = np_utils.to_categorical(y_test, number_of_classes)"
      ],
      "execution_count": 0,
      "outputs": []
    },
    {
      "metadata": {
        "id": "z4RUaO7f8rul",
        "colab_type": "code",
        "colab": {}
      },
      "cell_type": "code",
      "source": [
        "inputs = Input(shape=(32, 32, 3))\n",
        "x = BatchNormalization()(inputs)\n",
        "x = Conv2D(32, (3, 3), padding='same', activation='relu')(x)\n",
        "x = BatchNormalization()(x)\n",
        "x = Conv2D(32, (3, 3), padding='same', activation='relu')(x)\n",
        "x = Dropout(0.25)(x)\n",
        "x = BatchNormalization()(x)\n",
        "x = Conv2D(32, (3, 3), padding='same', activation='relu')(x)\n",
        "x = Dropout(0.25)(x)\n",
        "x = BatchNormalization()(x)\n",
        "x = Conv2D(32, (3, 3), padding='same', activation='relu')(x)\n",
        "x = Dropout(0.25)(x)\n",
        "x = Conv2D(32, (3, 3), padding='same', activation='relu')(x)\n",
        "x = MaxPooling2D(pool_size=(2, 2))(x)\n",
        "x = Dropout(0.25)(x)\n",
        "x = BatchNormalization()(x)\n",
        "x = Conv2D(64, (3, 3), padding='same', activation='relu')(x)\n",
        "x = Dropout(0.25)(x)\n",
        "x = Conv2D(64, (3, 3), activation='relu')(x)\n",
        "x = MaxPooling2D(pool_size=(2, 2))(x)\n",
        "x = Dropout(0.25)(x)\n",
        "x = Flatten()(x)\n",
        "x = Dense(512, activation='relu')(x)\n",
        "x = Dropout(0.5)(x)\n",
        "outputs = Dense(10, activation='softmax')(x)"
      ],
      "execution_count": 0,
      "outputs": []
    },
    {
      "metadata": {
        "id": "XqzM-bTf89fQ",
        "colab_type": "code",
        "colab": {}
      },
      "cell_type": "code",
      "source": [
        "model = Model(inputs, outputs)"
      ],
      "execution_count": 0,
      "outputs": []
    },
    {
      "metadata": {
        "id": "R3643S2xBu7b",
        "colab_type": "code",
        "colab": {}
      },
      "cell_type": "code",
      "source": [
        "adam = Adam(lr=0.0005, beta_1=0.9, beta_2=0.999)  # beta_1=0.9, beta_2=0.999, epsilon=None, decay=0.0, amsgrad=False)"
      ],
      "execution_count": 0,
      "outputs": []
    },
    {
      "metadata": {
        "id": "a8uTi_GD8_je",
        "colab_type": "code",
        "colab": {}
      },
      "cell_type": "code",
      "source": [
        "model.compile(optimizer=adam,\n",
        "              loss='categorical_crossentropy',\n",
        "              metrics=['accuracy'])"
      ],
      "execution_count": 0,
      "outputs": []
    },
    {
      "metadata": {
        "id": "EvJnZLeN9GZB",
        "colab_type": "code",
        "outputId": "3abca76a-4a17-48ae-9536-2ac32c810750",
        "colab": {
          "base_uri": "https://localhost:8080/",
          "height": 986
        }
      },
      "cell_type": "code",
      "source": [
        "model.summary()"
      ],
      "execution_count": 51,
      "outputs": [
        {
          "output_type": "stream",
          "text": [
            "_________________________________________________________________\n",
            "Layer (type)                 Output Shape              Param #   \n",
            "=================================================================\n",
            "input_3 (InputLayer)         (None, 32, 32, 3)         0         \n",
            "_________________________________________________________________\n",
            "batch_normalization_10 (Batc (None, 32, 32, 3)         12        \n",
            "_________________________________________________________________\n",
            "conv2d_14 (Conv2D)           (None, 32, 32, 32)        896       \n",
            "_________________________________________________________________\n",
            "batch_normalization_11 (Batc (None, 32, 32, 32)        128       \n",
            "_________________________________________________________________\n",
            "conv2d_15 (Conv2D)           (None, 32, 32, 32)        9248      \n",
            "_________________________________________________________________\n",
            "dropout_14 (Dropout)         (None, 32, 32, 32)        0         \n",
            "_________________________________________________________________\n",
            "batch_normalization_12 (Batc (None, 32, 32, 32)        128       \n",
            "_________________________________________________________________\n",
            "conv2d_16 (Conv2D)           (None, 32, 32, 32)        9248      \n",
            "_________________________________________________________________\n",
            "dropout_15 (Dropout)         (None, 32, 32, 32)        0         \n",
            "_________________________________________________________________\n",
            "batch_normalization_13 (Batc (None, 32, 32, 32)        128       \n",
            "_________________________________________________________________\n",
            "conv2d_17 (Conv2D)           (None, 32, 32, 32)        9248      \n",
            "_________________________________________________________________\n",
            "dropout_16 (Dropout)         (None, 32, 32, 32)        0         \n",
            "_________________________________________________________________\n",
            "conv2d_18 (Conv2D)           (None, 32, 32, 32)        9248      \n",
            "_________________________________________________________________\n",
            "max_pooling2d_4 (MaxPooling2 (None, 16, 16, 32)        0         \n",
            "_________________________________________________________________\n",
            "dropout_17 (Dropout)         (None, 16, 16, 32)        0         \n",
            "_________________________________________________________________\n",
            "batch_normalization_14 (Batc (None, 16, 16, 32)        128       \n",
            "_________________________________________________________________\n",
            "conv2d_19 (Conv2D)           (None, 16, 16, 64)        18496     \n",
            "_________________________________________________________________\n",
            "dropout_18 (Dropout)         (None, 16, 16, 64)        0         \n",
            "_________________________________________________________________\n",
            "conv2d_20 (Conv2D)           (None, 14, 14, 64)        36928     \n",
            "_________________________________________________________________\n",
            "max_pooling2d_5 (MaxPooling2 (None, 7, 7, 64)          0         \n",
            "_________________________________________________________________\n",
            "dropout_19 (Dropout)         (None, 7, 7, 64)          0         \n",
            "_________________________________________________________________\n",
            "flatten_2 (Flatten)          (None, 3136)              0         \n",
            "_________________________________________________________________\n",
            "dense_4 (Dense)              (None, 512)               1606144   \n",
            "_________________________________________________________________\n",
            "dropout_20 (Dropout)         (None, 512)               0         \n",
            "_________________________________________________________________\n",
            "dense_5 (Dense)              (None, 10)                5130      \n",
            "=================================================================\n",
            "Total params: 1,705,110\n",
            "Trainable params: 1,704,848\n",
            "Non-trainable params: 262\n",
            "_________________________________________________________________\n"
          ],
          "name": "stdout"
        }
      ]
    },
    {
      "metadata": {
        "id": "nNJHfLwl9ReY",
        "colab_type": "code",
        "outputId": "bd4102af-f19f-4f44-96d8-f24d1bbddaaa",
        "colab": {
          "base_uri": "https://localhost:8080/",
          "height": 731
        }
      },
      "cell_type": "code",
      "source": [
        "earlystopping = EarlyStopping(monitor='val_acc', patience=3)\n",
        "\n",
        "model.fit(x_train, y_train, validation_split=0.1,\n",
        "              shuffle=True, batch_size=32,\n",
        "          epochs=50, callbacks=[earlystopping])"
      ],
      "execution_count": 52,
      "outputs": [
        {
          "output_type": "stream",
          "text": [
            "Train on 45000 samples, validate on 5000 samples\n",
            "Epoch 1/50\n",
            "45000/45000 [==============================] - 45s 1ms/step - loss: 1.6399 - acc: 0.3967 - val_loss: 1.4849 - val_acc: 0.4782\n",
            "Epoch 2/50\n",
            "45000/45000 [==============================] - 42s 936us/step - loss: 1.2554 - acc: 0.5512 - val_loss: 1.1039 - val_acc: 0.6134\n",
            "Epoch 3/50\n",
            "45000/45000 [==============================] - 42s 924us/step - loss: 1.0839 - acc: 0.6162 - val_loss: 0.9280 - val_acc: 0.6830\n",
            "Epoch 4/50\n",
            "45000/45000 [==============================] - 42s 925us/step - loss: 0.9693 - acc: 0.6568 - val_loss: 0.8113 - val_acc: 0.7184\n",
            "Epoch 5/50\n",
            "45000/45000 [==============================] - 42s 928us/step - loss: 0.8862 - acc: 0.6884 - val_loss: 0.7970 - val_acc: 0.7204\n",
            "Epoch 6/50\n",
            "45000/45000 [==============================] - 42s 928us/step - loss: 0.8096 - acc: 0.7153 - val_loss: 0.8155 - val_acc: 0.7292\n",
            "Epoch 7/50\n",
            "45000/45000 [==============================] - 42s 927us/step - loss: 0.7562 - acc: 0.7340 - val_loss: 0.6952 - val_acc: 0.7616\n",
            "Epoch 8/50\n",
            "45000/45000 [==============================] - 42s 934us/step - loss: 0.7108 - acc: 0.7492 - val_loss: 0.6390 - val_acc: 0.7802\n",
            "Epoch 9/50\n",
            "45000/45000 [==============================] - 42s 929us/step - loss: 0.6716 - acc: 0.7659 - val_loss: 0.6465 - val_acc: 0.7824\n",
            "Epoch 10/50\n",
            "45000/45000 [==============================] - 42s 926us/step - loss: 0.6355 - acc: 0.7760 - val_loss: 0.6544 - val_acc: 0.7832\n",
            "Epoch 11/50\n",
            "45000/45000 [==============================] - 42s 928us/step - loss: 0.6073 - acc: 0.7844 - val_loss: 0.6176 - val_acc: 0.7892\n",
            "Epoch 12/50\n",
            "45000/45000 [==============================] - 42s 928us/step - loss: 0.5876 - acc: 0.7940 - val_loss: 0.5731 - val_acc: 0.8078\n",
            "Epoch 13/50\n",
            "45000/45000 [==============================] - 42s 935us/step - loss: 0.5566 - acc: 0.8039 - val_loss: 0.5766 - val_acc: 0.8104\n",
            "Epoch 14/50\n",
            "45000/45000 [==============================] - 42s 940us/step - loss: 0.5375 - acc: 0.8100 - val_loss: 0.5601 - val_acc: 0.8138\n",
            "Epoch 15/50\n",
            "45000/45000 [==============================] - 49s 1ms/step - loss: 0.5143 - acc: 0.8178 - val_loss: 0.5570 - val_acc: 0.8158\n",
            "Epoch 16/50\n",
            "45000/45000 [==============================] - 49s 1ms/step - loss: 0.4968 - acc: 0.8244 - val_loss: 0.5532 - val_acc: 0.8180\n",
            "Epoch 17/50\n",
            "45000/45000 [==============================] - 45s 1ms/step - loss: 0.4789 - acc: 0.8324 - val_loss: 0.5579 - val_acc: 0.8226\n",
            "Epoch 18/50\n",
            "45000/45000 [==============================] - 42s 931us/step - loss: 0.4602 - acc: 0.8383 - val_loss: 0.5485 - val_acc: 0.8190\n",
            "Epoch 19/50\n",
            "45000/45000 [==============================] - 43s 950us/step - loss: 0.4530 - acc: 0.8415 - val_loss: 0.5403 - val_acc: 0.8212\n",
            "Epoch 20/50\n",
            "45000/45000 [==============================] - 42s 939us/step - loss: 0.4303 - acc: 0.8476 - val_loss: 0.5556 - val_acc: 0.8170\n"
          ],
          "name": "stdout"
        },
        {
          "output_type": "execute_result",
          "data": {
            "text/plain": [
              "<tensorflow.python.keras.callbacks.History at 0x7f9c7b180198>"
            ]
          },
          "metadata": {
            "tags": []
          },
          "execution_count": 52
        }
      ]
    },
    {
      "metadata": {
        "id": "AK_eH3jgAw9N",
        "colab_type": "code",
        "outputId": "f88ef7eb-8cc6-4b68-c942-ebfc4f525a5f",
        "colab": {
          "base_uri": "https://localhost:8080/",
          "height": 34
        }
      },
      "cell_type": "code",
      "source": [
        "model.evaluate(x_test, y_test, verbose=2)\n"
      ],
      "execution_count": 53,
      "outputs": [
        {
          "output_type": "execute_result",
          "data": {
            "text/plain": [
              "[0.5906804538726806, 0.81]"
            ]
          },
          "metadata": {
            "tags": []
          },
          "execution_count": 53
        }
      ]
    },
    {
      "metadata": {
        "id": "eCK6hP6QN7R0",
        "colab_type": "code",
        "colab": {}
      },
      "cell_type": "code",
      "source": [
        "model.save('model_cifar10.h5')"
      ],
      "execution_count": 0,
      "outputs": []
    },
    {
      "metadata": {
        "id": "yaqfKAXzXhaw",
        "colab_type": "code",
        "colab": {}
      },
      "cell_type": "code",
      "source": [
        "img_path = \"military-raptor-582888_640.jpg\""
      ],
      "execution_count": 0,
      "outputs": []
    },
    {
      "metadata": {
        "id": "IUBCGvpGcW_8",
        "colab_type": "code",
        "colab": {}
      },
      "cell_type": "code",
      "source": [
        "img = image.load_img(img_path, target_size=(32,32))"
      ],
      "execution_count": 0,
      "outputs": []
    },
    {
      "metadata": {
        "id": "zazx-mvUdVxX",
        "colab_type": "code",
        "outputId": "1dd949e1-b9dc-419e-a654-d7c41e17208c",
        "colab": {
          "base_uri": "https://localhost:8080/",
          "height": 347
        }
      },
      "cell_type": "code",
      "source": [
        "plt.imshow(img)\n",
        "plt.show()"
      ],
      "execution_count": 71,
      "outputs": [
        {
          "output_type": "display_data",
          "data": {
            "image/png": "[encoded data removed]",
            "text/plain": [
              "<matplotlib.figure.Figure at 0x7f9c7a0059b0>"
            ]
          },
          "metadata": {
            "tags": []
          }
        }
      ]
    },
    {
      "metadata": {
        "id": "pQnvG_95dpKD",
        "colab_type": "code",
        "colab": {}
      },
      "cell_type": "code",
      "source": [
        "x = image.img_to_array(img)\n",
        "x /= 255\n",
        "x = np.expand_dims(x, axis=0)"
      ],
      "execution_count": 0,
      "outputs": []
    },
    {
      "metadata": {
        "id": "nHlG5NI2euZB",
        "colab_type": "code",
        "colab": {}
      },
      "cell_type": "code",
      "source": [
        "classes = [\"plane\", \"car\", \"bird\", \"cat\", \"deer\", \"dog\", \"frog\", \"horse\", \"ship\", \"truck\"]"
      ],
      "execution_count": 0,
      "outputs": []
    },
    {
      "metadata": {
        "id": "dnGI4nuoeZbm",
        "colab_type": "code",
        "outputId": "471fb9fd-f2fa-4744-dad2-9d446a404abf",
        "colab": {
          "base_uri": "https://localhost:8080/",
          "height": 51
        }
      },
      "cell_type": "code",
      "source": [
        "prediction = model.predict(x)\n",
        "#prediction = np_utils.to_categorical(prediction)\n",
        "#print(classes[prediction(0)])\n",
        "print(prediction)"
      ],
      "execution_count": 73,
      "outputs": [
        {
          "output_type": "stream",
          "text": [
            "[[9.9816918e-01 2.9563316e-10 3.6799465e-05 7.7521054e-06 1.7750830e-03\n",
            "  6.0884777e-09 1.0941272e-07 6.1034866e-06 4.9542878e-06 5.4685939e-10]]\n"
          ],
          "name": "stdout"
        }
      ]
    },
    {
      "metadata": {
        "id": "rJHy9bNol8E6",
        "colab_type": "code",
        "outputId": "07ebe198-50cf-4d57-aa1d-ce51e47fad49",
        "colab": {
          "base_uri": "https://localhost:8080/",
          "height": 34
        }
      },
      "cell_type": "code",
      "source": [
        "pr = np.argmax(prediction) \n",
        "if pr == 0:\n",
        "  print(\"It's a plane\")\n",
        "if pr == 1:\n",
        "  print(\"It's a car\")\n",
        "if pr == 2:\n",
        "  print(\"It's a bird\")\n",
        "if pr == 3:\n",
        "  print(\"It's a cat\")\n",
        "if pr == 4:\n",
        "  print(\"It's a deer\") \n",
        "if pr == 5:\n",
        "  print(\"It's a dog\")\n",
        "if pr == 6:\n",
        "  print(\"It's a frog\")\n",
        "if pr == 7:\n",
        "  print(\"It's a horse\")\n",
        "if pr == 8:\n",
        "  print(\"It's a ship\")\n",
        "if pr == 9:\n",
        "  print(\"It's a truck\")   "
      ],
      "execution_count": 61,
      "outputs": [
        {
          "output_type": "stream",
          "text": [
            "It's a plane\n"
          ],
          "name": "stdout"
        }
      ]
    },
    {
      "metadata": {
        "id": "nFSc8ClAn92a",
        "colab_type": "code",
        "outputId": "0c29386c-56b6-4f3d-c216-0360083369fd",
        "colab": {
          "base_uri": "https://localhost:8080/",
          "height": 34
        }
      },
      "cell_type": "code",
      "source": [
        "img_path2 = \"car-49278_640.jpg\"\n",
        "img2 = image.load_img(img_path2, target_size=(32,32))\n",
        "x = image.img_to_array(img2)\n",
        "x /= 255\n",
        "x = np.expand_dims(x, axis=0)\n",
        "prediction = model.predict(x)\n",
        "pr = np.argmax(prediction)\n",
        "if pr == 0:\n",
        "  print(\"It's a plane\")\n",
        "if pr == 1:\n",
        "  print(\"It's a car\")\n",
        "if pr == 2:\n",
        "  print(\"It's a bird\")\n",
        "if pr == 3:\n",
        "  print(\"It's a cat\")\n",
        "if pr == 4:\n",
        "  print(\"It's a deer\") \n",
        "if pr == 5:\n",
        "  print(\"It's a dog\")\n",
        "if pr == 6:\n",
        "  print(\"It's a frog\")\n",
        "if pr == 7:\n",
        "  print(\"It's a horse\")\n",
        "if pr == 8:\n",
        "  print(\"It's a ship\")\n",
        "if pr == 9:\n",
        "  print(\"It's a truck\")   \n",
        "    "
      ],
      "execution_count": 76,
      "outputs": [
        {
          "output_type": "stream",
          "text": [
            "It's a car\n"
          ],
          "name": "stdout"
        }
      ]
    },
    {
      "metadata": {
        "id": "KtU8978frXLv",
        "colab_type": "code",
        "colab": {}
      },
      "cell_type": "code",
      "source": [
        ""
      ],
      "execution_count": 0,
      "outputs": []
    },
    {
      "metadata": {
        "id": "jpy9Wyb-pOiA",
        "colab_type": "code",
        "outputId": "be3b4cf0-9300-4915-874e-cf3ab2114f11",
        "colab": {
          "base_uri": "https://localhost:8080/",
          "height": 34
        }
      },
      "cell_type": "code",
      "source": [
        "  \n",
        "    \n",
        "  \n",
        "  \n",
        "  \n"
      ],
      "execution_count": 63,
      "outputs": [
        {
          "output_type": "stream",
          "text": [
            "It's a car\n"
          ],
          "name": "stdout"
        }
      ]
    },
    {
      "metadata": {
        "id": "cqUlYAx8rYl1",
        "colab_type": "code",
        "outputId": "45c2c572-5421-45d3-c26f-a86e5df78b75",
        "colab": {
          "base_uri": "https://localhost:8080/",
          "height": 85
        }
      },
      "cell_type": "code",
      "source": [
        ""
      ],
      "execution_count": 64,
      "outputs": [
        {
          "output_type": "stream",
          "text": [
            "[[2.85237184e-05 1.72491002e-06 2.66816560e-08 1.22360973e-06\n",
            "  2.16056488e-08 1.03414124e-10 2.57201350e-06 5.17045712e-11\n",
            "  9.99961376e-01 4.48411402e-06]]\n",
            "It's a ship\n"
          ],
          "name": "stdout"
        }
      ]
    },
    {
      "metadata": {
        "id": "6DU6skcYAx1S",
        "colab_type": "code",
        "colab": {
          "base_uri": "https://localhost:8080/",
          "height": 347
        },
        "outputId": "53ffd846-8c47-45fe-baa9-4d73f1abf62d"
      },
      "cell_type": "code",
      "source": [
        "img_path = \"horses-back-587609_640.jpg\"\n",
        "img = image.load_img(img_path, target_size=(32,32))\n",
        "plt.imshow(img)\n",
        "plt.show()\n"
      ],
      "execution_count": 74,
      "outputs": [
        {
          "output_type": "display_data",
          "data": {
            "image/png": "[encoded data removed]",
            "text/plain": [
              "<matplotlib.figure.Figure at 0x7f9c79fd8a58>"
            ]
          },
          "metadata": {
            "tags": []
          }
        }
      ]
    },
    {
      "metadata": {
        "id": "R5Rr6Y6qMxdI",
        "colab_type": "code",
        "colab": {
          "base_uri": "https://localhost:8080/",
          "height": 68
        },
        "outputId": "19ac6bb7-1be9-430e-c700-482a407defe0"
      },
      "cell_type": "code",
      "source": [
        "x = image.img_to_array(img)\n",
        "x /= 255\n",
        "x = np.expand_dims(x, axis=0)\n",
        "prediction = model.predict(x)\n",
        "print(prediction)\n",
        "pr = np.argmax(prediction)\n",
        "if pr == 0:\n",
        "  print(\"It's a plane\")\n",
        "if pr == 1:\n",
        "  print(\"It's a car\")\n",
        "if pr == 2:\n",
        "  print(\"It's a bird\")\n",
        "if pr == 3:\n",
        "  print(\"It's a cat\")\n",
        "if pr == 4:\n",
        "  print(\"It's a deer\") \n",
        "if pr == 5:\n",
        "  print(\"It's a dog\")\n",
        "if pr == 6:\n",
        "  print(\"It's a frog\")\n",
        "if pr == 7:\n",
        "  print(\"It's a horse\")\n",
        "if pr == 8:\n",
        "  print(\"It's a ship\")\n",
        "if pr == 9:\n",
        "  print(\"It's a truck\")"
      ],
      "execution_count": 75,
      "outputs": [
        {
          "output_type": "stream",
          "text": [
            "[[9.8648734e-06 5.4707780e-06 1.1389138e-02 9.4323605e-02 1.2762956e-02\n",
            "  3.7239414e-01 5.0153136e-01 7.2588860e-03 1.3044511e-04 1.9409941e-04]]\n",
            "It's a frog\n"
          ],
          "name": "stdout"
        }
      ]
    }
  ]
}