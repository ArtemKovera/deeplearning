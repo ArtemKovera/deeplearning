{
  "nbformat": 4,
  "nbformat_minor": 0,
  "metadata": {
    "colab": {
      "name": "cifar10_conv.ipynb",
      "version": "0.3.2",
      "provenance": []
    },
    "kernelspec": {
      "name": "python3",
      "display_name": "Python 3"
    },
    "accelerator": "GPU"
  },
  "cells": [
    {
      "metadata": {
        "id": "dHoZztP0u1qu",
        "colab_type": "code",
        "colab": {}
      },
      "cell_type": "code",
      "source": [
        "import numpy as np\n",
        "import tensorflow as tf\n",
        "from tensorflow.keras.datasets import cifar10\n",
        "from tensorflow.keras.models import Model\n",
        "from tensorflow.keras.layers import Dense, Flatten, Input\n",
        "from tensorflow.keras.layers import Dropout, BatchNormalization\n",
        "from tensorflow.keras.layers import Conv2D, MaxPooling2D\n",
        "from tensorflow.keras.preprocessing import image\n",
        "from tensorflow.keras.optimizers import Adam \n",
        "import matplotlib.pyplot as plt\n",
        "from keras.utils import np_utils\n",
        "from tensorflow.keras.callbacks import EarlyStopping\n",
        "\n"
      ],
      "execution_count": 0,
      "outputs": []
    },
    {
      "metadata": {
        "id": "O-UYQv4cvjBD",
        "colab_type": "code",
        "colab": {}
      },
      "cell_type": "code",
      "source": [
        "(x_train, y_train), (x_test, y_test) = cifar10.load_data()"
      ],
      "execution_count": 0,
      "outputs": []
    },
    {
      "metadata": {
        "id": "PqU4hcCtvnRi",
        "colab_type": "code",
        "colab": {}
      },
      "cell_type": "code",
      "source": [
        "x_train = x_train.astype('float32')\n",
        "x_test =x_test.astype('float32')\n",
        "x_train /= 255\n",
        "x_test /= 255\n",
        "number_of_classes = 10\n",
        "y_train = np_utils.to_categorical(y_train, number_of_classes)\n",
        "y_test = np_utils.to_categorical(y_test, number_of_classes)\n"
      ],
      "execution_count": 0,
      "outputs": []
    },
    {
      "metadata": {
        "id": "c2svRhYywRX_",
        "colab_type": "code",
        "colab": {}
      },
      "cell_type": "code",
      "source": [
        "inputs = Input(shape=(32, 32, 3))\n",
        "x = BatchNormalization()(inputs)\n",
        "x = Conv2D(32, (3, 3), padding='same', activation='relu')(x)\n",
        "x = BatchNormalization()(x)\n",
        "x = Conv2D(32, (3, 3), padding='same', activation='relu')(x)\n",
        "x = Dropout(0.25)(x)\n",
        "x = BatchNormalization()(x)\n",
        "x = Conv2D(32, (3, 3), padding='same', activation='relu')(x)\n",
        "x = Dropout(0.25)(x)\n",
        "x = BatchNormalization()(x)\n",
        "x = Conv2D(32, (3, 3), padding='same', activation='relu')(x)\n",
        "x = Dropout(0.25)(x)\n",
        "x = Conv2D(32, (3, 3), padding='same', activation='relu')(x)\n",
        "x = MaxPooling2D(pool_size=(2, 2))(x)\n",
        "x = Dropout(0.25)(x)\n",
        "x = BatchNormalization()(x)\n",
        "x = Conv2D(64, (3, 3), padding='same', activation='relu')(x)\n",
        "x = Dropout(0.25)(x)\n",
        "x = Conv2D(64, (3, 3), activation='relu')(x)\n",
        "x = MaxPooling2D(pool_size=(2, 2))(x)\n",
        "x = Dropout(0.25)(x)\n",
        "x = Flatten()(x)\n",
        "x = Dense(512, activation='relu')(x)\n",
        "x = Dropout(0.5)(x)\n",
        "outputs = Dense(10, activation='softmax')(x)\n",
        "model = Model(inputs, outputs)\n"
      ],
      "execution_count": 0,
      "outputs": []
    },
    {
      "metadata": {
        "id": "_kV7D7sHwZYD",
        "colab_type": "code",
        "colab": {
          "base_uri": "https://localhost:8080/",
          "height": 986
        },
        "outputId": "db45dadc-967b-4e61-a053-26c6c2312428"
      },
      "cell_type": "code",
      "source": [
        "model.summary()"
      ],
      "execution_count": 21,
      "outputs": [
        {
          "output_type": "stream",
          "text": [
            "_________________________________________________________________\n",
            "Layer (type)                 Output Shape              Param #   \n",
            "=================================================================\n",
            "input_2 (InputLayer)         (None, 32, 32, 3)         0         \n",
            "_________________________________________________________________\n",
            "batch_normalization_5 (Batch (None, 32, 32, 3)         12        \n",
            "_________________________________________________________________\n",
            "conv2d_7 (Conv2D)            (None, 32, 32, 32)        896       \n",
            "_________________________________________________________________\n",
            "batch_normalization_6 (Batch (None, 32, 32, 32)        128       \n",
            "_________________________________________________________________\n",
            "conv2d_8 (Conv2D)            (None, 32, 32, 32)        9248      \n",
            "_________________________________________________________________\n",
            "dropout_7 (Dropout)          (None, 32, 32, 32)        0         \n",
            "_________________________________________________________________\n",
            "batch_normalization_7 (Batch (None, 32, 32, 32)        128       \n",
            "_________________________________________________________________\n",
            "conv2d_9 (Conv2D)            (None, 32, 32, 32)        9248      \n",
            "_________________________________________________________________\n",
            "dropout_8 (Dropout)          (None, 32, 32, 32)        0         \n",
            "_________________________________________________________________\n",
            "batch_normalization_8 (Batch (None, 32, 32, 32)        128       \n",
            "_________________________________________________________________\n",
            "conv2d_10 (Conv2D)           (None, 32, 32, 32)        9248      \n",
            "_________________________________________________________________\n",
            "dropout_9 (Dropout)          (None, 32, 32, 32)        0         \n",
            "_________________________________________________________________\n",
            "conv2d_11 (Conv2D)           (None, 32, 32, 32)        9248      \n",
            "_________________________________________________________________\n",
            "max_pooling2d_2 (MaxPooling2 (None, 16, 16, 32)        0         \n",
            "_________________________________________________________________\n",
            "dropout_10 (Dropout)         (None, 16, 16, 32)        0         \n",
            "_________________________________________________________________\n",
            "batch_normalization_9 (Batch (None, 16, 16, 32)        128       \n",
            "_________________________________________________________________\n",
            "conv2d_12 (Conv2D)           (None, 16, 16, 64)        18496     \n",
            "_________________________________________________________________\n",
            "dropout_11 (Dropout)         (None, 16, 16, 64)        0         \n",
            "_________________________________________________________________\n",
            "conv2d_13 (Conv2D)           (None, 14, 14, 64)        36928     \n",
            "_________________________________________________________________\n",
            "max_pooling2d_3 (MaxPooling2 (None, 7, 7, 64)          0         \n",
            "_________________________________________________________________\n",
            "dropout_12 (Dropout)         (None, 7, 7, 64)          0         \n",
            "_________________________________________________________________\n",
            "flatten_1 (Flatten)          (None, 3136)              0         \n",
            "_________________________________________________________________\n",
            "dense_2 (Dense)              (None, 512)               1606144   \n",
            "_________________________________________________________________\n",
            "dropout_13 (Dropout)         (None, 512)               0         \n",
            "_________________________________________________________________\n",
            "dense_3 (Dense)              (None, 10)                5130      \n",
            "=================================================================\n",
            "Total params: 1,705,110\n",
            "Trainable params: 1,704,848\n",
            "Non-trainable params: 262\n",
            "_________________________________________________________________\n"
          ],
          "name": "stdout"
        }
      ]
    },
    {
      "metadata": {
        "id": "L-snz76dwhDO",
        "colab_type": "code",
        "colab": {}
      },
      "cell_type": "code",
      "source": [
        " adam = Adam(lr=0.0005)  "
      ],
      "execution_count": 0,
      "outputs": []
    },
    {
      "metadata": {
        "id": "iNdfHe0Dwkev",
        "colab_type": "code",
        "colab": {}
      },
      "cell_type": "code",
      "source": [
        " model.compile(optimizer=adam,\n",
        "              loss='categorical_crossentropy',\n",
        "              metrics=['accuracy'])\n"
      ],
      "execution_count": 0,
      "outputs": []
    },
    {
      "metadata": {
        "id": "6GOOiOLewo4H",
        "colab_type": "code",
        "colab": {}
      },
      "cell_type": "code",
      "source": [
        "earlystopping = EarlyStopping(monitor='val_acc', patience=3)"
      ],
      "execution_count": 0,
      "outputs": []
    },
    {
      "metadata": {
        "id": "j3eMAkgrwsjf",
        "colab_type": "code",
        "colab": {
          "base_uri": "https://localhost:8080/",
          "height": 697
        },
        "outputId": "5690b027-0e49-4d65-c380-55f93ca5cc5a"
      },
      "cell_type": "code",
      "source": [
        "model.fit(x_train, y_train, validation_split=0.1,\n",
        "              shuffle=True, batch_size=32,\n",
        "          epochs=50, callbacks=[earlystopping])\n",
        "\n",
        "\n",
        "\n"
      ],
      "execution_count": 25,
      "outputs": [
        {
          "output_type": "stream",
          "text": [
            "Train on 45000 samples, validate on 5000 samples\n",
            "Epoch 1/50\n",
            "45000/45000 [==============================] - 50s 1ms/step - loss: 1.6246 - acc: 0.4052 - val_loss: 1.3916 - val_acc: 0.5100\n",
            "Epoch 2/50\n",
            "45000/45000 [==============================] - 41s 921us/step - loss: 1.2765 - acc: 0.5397 - val_loss: 1.1198 - val_acc: 0.6012\n",
            "Epoch 3/50\n",
            "45000/45000 [==============================] - 56s 1ms/step - loss: 1.1051 - acc: 0.6063 - val_loss: 1.0063 - val_acc: 0.6456\n",
            "Epoch 4/50\n",
            "45000/45000 [==============================] - 57s 1ms/step - loss: 0.9758 - acc: 0.6548 - val_loss: 0.9216 - val_acc: 0.6798\n",
            "Epoch 5/50\n",
            "45000/45000 [==============================] - 57s 1ms/step - loss: 0.8952 - acc: 0.6865 - val_loss: 0.7472 - val_acc: 0.7382\n",
            "Epoch 6/50\n",
            "45000/45000 [==============================] - 59s 1ms/step - loss: 0.8192 - acc: 0.7114 - val_loss: 0.7683 - val_acc: 0.7340\n",
            "Epoch 7/50\n",
            "45000/45000 [==============================] - 48s 1ms/step - loss: 0.7670 - acc: 0.7288 - val_loss: 0.6979 - val_acc: 0.7616\n",
            "Epoch 8/50\n",
            "45000/45000 [==============================] - 53s 1ms/step - loss: 0.7170 - acc: 0.7468 - val_loss: 0.6631 - val_acc: 0.7726\n",
            "Epoch 9/50\n",
            "45000/45000 [==============================] - 61s 1ms/step - loss: 0.6812 - acc: 0.7601 - val_loss: 0.6638 - val_acc: 0.7708\n",
            "Epoch 10/50\n",
            "45000/45000 [==============================] - 60s 1ms/step - loss: 0.6454 - acc: 0.7704 - val_loss: 0.6481 - val_acc: 0.7822\n",
            "Epoch 11/50\n",
            "45000/45000 [==============================] - 58s 1ms/step - loss: 0.6140 - acc: 0.7814 - val_loss: 0.6080 - val_acc: 0.7952\n",
            "Epoch 12/50\n",
            "45000/45000 [==============================] - 57s 1ms/step - loss: 0.5956 - acc: 0.7920 - val_loss: 0.6114 - val_acc: 0.7918\n",
            "Epoch 13/50\n",
            "45000/45000 [==============================] - 61s 1ms/step - loss: 0.5635 - acc: 0.8001 - val_loss: 0.5898 - val_acc: 0.8068\n",
            "Epoch 14/50\n",
            "45000/45000 [==============================] - 59s 1ms/step - loss: 0.5369 - acc: 0.8101 - val_loss: 0.5871 - val_acc: 0.8036\n",
            "Epoch 15/50\n",
            "45000/45000 [==============================] - 56s 1ms/step - loss: 0.5213 - acc: 0.8166 - val_loss: 0.5613 - val_acc: 0.8112\n",
            "Epoch 16/50\n",
            "45000/45000 [==============================] - 59s 1ms/step - loss: 0.5007 - acc: 0.8240 - val_loss: 0.5451 - val_acc: 0.8190\n",
            "Epoch 17/50\n",
            "45000/45000 [==============================] - 56s 1ms/step - loss: 0.4859 - acc: 0.8280 - val_loss: 0.5604 - val_acc: 0.8126\n",
            "Epoch 18/50\n",
            "45000/45000 [==============================] - 56s 1ms/step - loss: 0.4696 - acc: 0.8343 - val_loss: 0.5612 - val_acc: 0.8184\n",
            "Epoch 19/50\n",
            "45000/45000 [==============================] - 58s 1ms/step - loss: 0.4539 - acc: 0.8398 - val_loss: 0.5694 - val_acc: 0.8156\n"
          ],
          "name": "stdout"
        },
        {
          "output_type": "execute_result",
          "data": {
            "text/plain": [
              "<tensorflow.python.keras.callbacks.History at 0x7f84a10012b0>"
            ]
          },
          "metadata": {
            "tags": []
          },
          "execution_count": 25
        }
      ]
    },
    {
      "metadata": {
        "id": "gkH0vK724Dcz",
        "colab_type": "code",
        "colab": {
          "base_uri": "https://localhost:8080/",
          "height": 34
        },
        "outputId": "38083b74-f731-48c9-a73a-a2475cb2d722"
      },
      "cell_type": "code",
      "source": [
        "model.evaluate(x_test, y_test, verbose=2)"
      ],
      "execution_count": 26,
      "outputs": [
        {
          "output_type": "execute_result",
          "data": {
            "text/plain": [
              "[0.5969805984735489, 0.8031]"
            ]
          },
          "metadata": {
            "tags": []
          },
          "execution_count": 26
        }
      ]
    },
    {
      "metadata": {
        "id": "UvwpiSfN4SXw",
        "colab_type": "code",
        "colab": {}
      },
      "cell_type": "code",
      "source": [
        "classes = {\"0\":\"Plane\", \"1\":\"Car\", \"2\":\"Bird\", \"3\":\"Cat\", \"4\":\"Deer\", \"5\":\"Dog\", \"6\" :\"Frog\", \"7\" :\"Horse\", \"8\" :\"Ship\", \"9\" :\"Truck\"}"
      ],
      "execution_count": 0,
      "outputs": []
    },
    {
      "metadata": {
        "id": "i5V7EC6A4ggS",
        "colab_type": "code",
        "colab": {
          "base_uri": "https://localhost:8080/",
          "height": 347
        },
        "outputId": "87062dae-6038-40a7-86f0-28ea301c39d9"
      },
      "cell_type": "code",
      "source": [
        "img_path = \"military-raptor-582888_640.jpg\"\n",
        "img = image.load_img(img_path, target_size=(32,32))\n",
        "plt.imshow(img)\n",
        "plt.show()"
      ],
      "execution_count": 28,
      "outputs": [
        {
          "output_type": "display_data",
          "data": {
            "image/png": "[encoded data removed]",
            "text/plain": [
              "<matplotlib.figure.Figure at 0x7f8499fe2208>"
            ]
          },
          "metadata": {
            "tags": []
          }
        }
      ]
    },
    {
      "metadata": {
        "id": "Gj85Z5-54yPh",
        "colab_type": "code",
        "colab": {}
      },
      "cell_type": "code",
      "source": [
        "x = image.img_to_array(img)\n",
        "x /= 255\n",
        "x = np.expand_dims(x, axis=0)"
      ],
      "execution_count": 0,
      "outputs": []
    },
    {
      "metadata": {
        "id": "xraYMlZV42c_",
        "colab_type": "code",
        "colab": {
          "base_uri": "https://localhost:8080/",
          "height": 51
        },
        "outputId": "c7622206-e355-44d2-fad4-02355f43d03e"
      },
      "cell_type": "code",
      "source": [
        "prediction = model.predict(x)\n",
        "print(prediction)"
      ],
      "execution_count": 30,
      "outputs": [
        {
          "output_type": "stream",
          "text": [
            "[[6.8018216e-01 6.0019954e-07 4.3364539e-04 2.9106165e-04 2.9825357e-01\n",
            "  1.5069221e-05 1.3491109e-05 4.5233281e-04 2.0347679e-02 1.0532329e-05]]\n"
          ],
          "name": "stdout"
        }
      ]
    },
    {
      "metadata": {
        "id": "JjegwmQ048Fg",
        "colab_type": "code",
        "colab": {
          "base_uri": "https://localhost:8080/",
          "height": 34
        },
        "outputId": "b9730f24-9cfb-4a14-b491-55ba87b631f3"
      },
      "cell_type": "code",
      "source": [
        "pr = np.argmax(prediction) \n",
        "for k,v in classes.items(): \n",
        "     if k == str(pr):\n",
        "         print(\"It's a\", v)"
      ],
      "execution_count": 31,
      "outputs": [
        {
          "output_type": "stream",
          "text": [
            "It's a Plane\n"
          ],
          "name": "stdout"
        }
      ]
    },
    {
      "metadata": {
        "id": "cmTv0yFv5CwC",
        "colab_type": "code",
        "colab": {
          "base_uri": "https://localhost:8080/",
          "height": 34
        },
        "outputId": "cdc7573f-c1ee-4fa7-ab8a-fe02a38b7808"
      },
      "cell_type": "code",
      "source": [
        "img_path2 = \"car-49278_640.jpg\"\n",
        "img2 = image.load_img(img_path2, target_size=(32,32))\n",
        "x = image.img_to_array(img2)\n",
        "x /= 255\n",
        "x = np.expand_dims(x, axis=0)\n",
        "prediction = model.predict(x)\n",
        "pr = np.argmax(prediction)\n",
        "for k,v in classes.items(): \n",
        "     if k == str(pr):\n",
        "         print(\"It's a\", v)"
      ],
      "execution_count": 33,
      "outputs": [
        {
          "output_type": "stream",
          "text": [
            "It's a Car\n"
          ],
          "name": "stdout"
        }
      ]
    },
    {
      "metadata": {
        "id": "LJyNapTF5NwR",
        "colab_type": "code",
        "colab": {
          "base_uri": "https://localhost:8080/",
          "height": 34
        },
        "outputId": "1d61dde6-ef87-43ef-edd4-8d012e738713"
      },
      "cell_type": "code",
      "source": [
        "img_path3 = \"horses-back-587609_640.jpg\"\n",
        "img3 = image.load_img(img_path3, target_size=(32,32))\n",
        "x = image.img_to_array(img3)\n",
        "x /= 255\n",
        "x = np.expand_dims(x, axis=0)\n",
        "prediction = model.predict(x)\n",
        "pr = np.argmax(prediction)\n",
        "for k,v in classes.items(): \n",
        "     if k == str(pr):\n",
        "         print(\"It's a\", v)"
      ],
      "execution_count": 34,
      "outputs": [
        {
          "output_type": "stream",
          "text": [
            "It's a Frog\n"
          ],
          "name": "stdout"
        }
      ]
    }
  ]
}